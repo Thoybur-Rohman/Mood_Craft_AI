{
  "nbformat": 4,
  "nbformat_minor": 0,
  "metadata": {
    "colab": {
      "provenance": []
    },
    "kernelspec": {
      "name": "python3",
      "display_name": "Python 3"
    },
    "language_info": {
      "name": "python"
    }
  },
  "cells": [
    {
      "cell_type": "code",
      "execution_count": null,
      "metadata": {
        "id": "-vylAwEIg1Ui",
        "colab": {
          "base_uri": "https://localhost:8080/"
        },
        "outputId": "6a9709af-3010-4493-adff-10ef5a2e5db7"
      },
      "outputs": [
        {
          "output_type": "stream",
          "name": "stdout",
          "text": [
            "Mounted at /content/drive\n"
          ]
        }
      ],
      "source": [
        "from google.colab import drive\n",
        "drive.mount('/content/drive')"
      ]
    },
    {
      "cell_type": "code",
      "source": [
        "!ls '/content/drive/MyDrive'"
      ],
      "metadata": {
        "colab": {
          "base_uri": "https://localhost:8080/"
        },
        "id": "iN8KFXHQygvo",
        "outputId": "7b5c50f5-1259-41f5-b3cd-b29f1f2ff4cb"
      },
      "execution_count": null,
      "outputs": [
        {
          "output_type": "stream",
          "name": "stdout",
          "text": [
            "'archive (6).zip'       Final_grade_calculator_2.xlsx\t     test\n",
            "'Colab Notebooks'      'How to get started with Drive.pdf'  'Thoybur Samir-Rahman CV.gdoc'\n",
            " data\t\t        Resume.gdoc\n",
            " fer2013_balanced.zip   SavedModels\n"
          ]
        }
      ]
    },
    {
      "cell_type": "code",
      "source": [
        "# Unzip the archive file\n",
        "import zipfile\n",
        "with zipfile.ZipFile('/content/drive/MyDrive/archive (6).zip', 'r') as zip_ref:\n",
        "    zip_ref.extractall('/content/dataset/ck+')\n",
        "\n",
        "!ls /content/dataset/fer2013/"
      ],
      "metadata": {
        "id": "q7KnrLnozXX_",
        "colab": {
          "base_uri": "https://localhost:8080/"
        },
        "outputId": "06126ac9-6597-43ad-b248-34fc8a97ce8a"
      },
      "execution_count": null,
      "outputs": [
        {
          "output_type": "stream",
          "name": "stdout",
          "text": [
            "ls: cannot access '/content/dataset/fer2013/': No such file or directory\n"
          ]
        }
      ]
    },
    {
      "cell_type": "code",
      "source": [
        "!ls '/content/drive/MyDrive/Colab Notebooks'"
      ],
      "metadata": {
        "colab": {
          "base_uri": "https://localhost:8080/"
        },
        "id": "ndWjxzCIoHgc",
        "outputId": "b219aa81-54ea-459d-aaf0-1dc50b708a15"
      },
      "execution_count": null,
      "outputs": [
        {
          "output_type": "stream",
          "name": "stdout",
          "text": [
            " archive.zip\t\t      'Machine Learning for Everybody -EP1'\n",
            " Fer2013_year3_dataset.ipynb  'pneumonia_detection-V2_2 (1).ipynb'\n",
            " ferv2.ipynb\t\t       pneumonia_detection-V2_2.ipynb\n",
            " HelloWorld_MNIST.ipynb        pneumonia_detection_V2_2.ipynb\n",
            "'Machine Learning -EP1'        year3Final.ipynb\n"
          ]
        }
      ]
    },
    {
      "cell_type": "code",
      "source": [
        "!mkdir -p '/content/dataset/fer2013'"
      ],
      "metadata": {
        "id": "bH91EYu6o1N3"
      },
      "execution_count": null,
      "outputs": []
    },
    {
      "cell_type": "code",
      "source": [
        "# Unzip the archive file\n",
        "import zipfile\n",
        "with zipfile.ZipFile('/content/drive/MyDrive/Colab Notebooks/archive.zip', 'r') as zip_ref:\n",
        "    zip_ref.extractall('/content/dataset/fer2013')\n",
        "\n",
        "!ls /content/dataset/fer2013/"
      ],
      "metadata": {
        "colab": {
          "base_uri": "https://localhost:8080/"
        },
        "id": "KnSmx5ngoZRk",
        "outputId": "12c35601-6003-4e33-c008-f3df881eff92"
      },
      "execution_count": null,
      "outputs": [
        {
          "output_type": "stream",
          "name": "stdout",
          "text": [
            "test  train\n"
          ]
        }
      ]
    },
    {
      "cell_type": "code",
      "source": [
        "import os\n",
        "import shutil\n",
        "\n",
        "def combine_datasets(ckplus_path, fer2013_path, output_path):\n",
        "    emotions = ['angry', 'disgust', 'fear', 'happy', 'neutral', 'sad', 'surprise']\n",
        "\n",
        "    # Combine train datasets\n",
        "    for emotion in emotions:\n",
        "        ckplus_train_path = os.path.join(ckplus_path, 'train', emotion)\n",
        "        fer2013_train_path = os.path.join(fer2013_path, 'train', emotion)\n",
        "        output_train_path = os.path.join(output_path, 'train', emotion)\n",
        "\n",
        "        # Create the output directory for the emotion in the combined dataset\n",
        "        os.makedirs(output_train_path, exist_ok=True)\n",
        "\n",
        "        # Copy images from CK+ train set\n",
        "        for file_name in os.listdir(ckplus_train_path):\n",
        "            shutil.copy(os.path.join(ckplus_train_path, file_name), output_train_path)\n",
        "\n",
        "        # Copy images from FER2013 train set\n",
        "        for file_name in os.listdir(fer2013_train_path):\n",
        "            shutil.copy(os.path.join(fer2013_train_path, file_name), output_train_path)\n",
        "\n",
        "    # Combine test datasets\n",
        "    for emotion in emotions:\n",
        "        ckplus_test_path = os.path.join(ckplus_path, 'test', emotion)\n",
        "        fer2013_test_path = os.path.join(fer2013_path, 'test', emotion)\n",
        "        output_test_path = os.path.join(output_path, 'test', emotion)\n",
        "\n",
        "        # Create the output directory for the emotion in the combined dataset\n",
        "        os.makedirs(output_test_path, exist_ok=True)\n",
        "\n",
        "        # Copy images from CK+ test set\n",
        "        for file_name in os.listdir(ckplus_test_path):\n",
        "            shutil.copy(os.path.join(ckplus_test_path, file_name), output_test_path)\n",
        "\n",
        "        # Copy images from FER2013 test set\n",
        "        for file_name in os.listdir(fer2013_test_path):\n",
        "            shutil.copy(os.path.join(fer2013_test_path, file_name), output_test_path)\n",
        "\n",
        "# Example usage:\n",
        "ckplus_dataset_path = '/content/dataset/ck+/ck+ new'\n",
        "fer2013_dataset_path = '/content/dataset/fer2013'\n",
        "combined_dataset_output_path = '/content/dataset/combined'\n",
        "\n",
        "combine_datasets(ckplus_dataset_path, fer2013_dataset_path, combined_dataset_output_path)"
      ],
      "metadata": {
        "id": "N5ycDhtn0awG"
      },
      "execution_count": null,
      "outputs": []
    },
    {
      "cell_type": "code",
      "source": [
        "!ls '/content/dataset/combined/train'"
      ],
      "metadata": {
        "colab": {
          "base_uri": "https://localhost:8080/"
        },
        "id": "MAl_FsD-payo",
        "outputId": "6b007980-fef9-445c-816d-2638a22e8a40"
      },
      "execution_count": null,
      "outputs": [
        {
          "output_type": "stream",
          "name": "stdout",
          "text": [
            "angry  disgust\tfear  happy  neutral  sad  surprise\n"
          ]
        }
      ]
    },
    {
      "cell_type": "code",
      "source": [
        "emotions = ['angry', 'disgust', 'fear', 'happy', 'neutral', 'sad', 'surprise']\n",
        "train_data_path = '/content/dataset/combined/train'\n",
        "test_data_path = '/content/dataset/combined/test'\n"
      ],
      "metadata": {
        "id": "5boGoNQqpgzU"
      },
      "execution_count": null,
      "outputs": []
    },
    {
      "cell_type": "code",
      "source": [
        "emotions_distribution = {}\n",
        "for emo in emotions:\n",
        "  count = 0\n",
        "  count = len(os.listdir(os.path.join(train_data_path, emo)))\n",
        "  emotions_distribution[emo] = count\n",
        "emotions_distribution"
      ],
      "metadata": {
        "id": "LUiWNaVpSrOL",
        "colab": {
          "base_uri": "https://localhost:8080/"
        },
        "outputId": "966c19f1-d56e-4432-aac0-f75e4190c1b7"
      },
      "execution_count": null,
      "outputs": [
        {
          "output_type": "execute_result",
          "data": {
            "text/plain": [
              "{'angry': 4089,\n",
              " 'disgust': 561,\n",
              " 'fear': 4149,\n",
              " 'happy': 7359,\n",
              " 'neutral': 5003,\n",
              " 'sad': 4888,\n",
              " 'surprise': 3344}"
            ]
          },
          "metadata": {},
          "execution_count": 12
        }
      ]
    },
    {
      "cell_type": "code",
      "source": [
        "from matplotlib import pyplot as plt\n",
        "\n",
        "plt.pie(list(emotions_distribution.values()),\n",
        "        labels = list(emotions_distribution.keys()),\n",
        "        autopct = '%1.1f%%')\n",
        "plt.show()\n",
        "\n",
        "from matplotlib import pyplot as plt\n",
        "import seaborn as sns\n",
        "\n",
        "# Use Seaborn color palette for a set of distinct colors\n",
        "colors = sns.color_palette('husl', n_colors=len(emotions_distribution))\n",
        "\n",
        "# Pie chart\n",
        "plt.figure(figsize=(12, 4))\n",
        "plt.subplot(1, 4, 1)\n",
        "plt.pie(list(emotions_distribution.values()), labels=list(emotions_distribution.keys()), autopct='%1.1f%%', colors=colors)\n",
        "plt.title('Pie Chart')\n",
        "\n",
        "# Bar chart in blue\n",
        "plt.subplot(1, 4, 2)\n",
        "plt.bar(emotions_distribution.keys(), emotions_distribution.values(), color='blue')\n",
        "plt.xlabel('Emotions')\n",
        "plt.ylabel('Count')\n",
        "plt.title('Bar Chart (Blue)')\n",
        "\n",
        "plt.tight_layout()\n",
        "plt.show()"
      ],
      "metadata": {
        "colab": {
          "base_uri": "https://localhost:8080/",
          "height": 796
        },
        "id": "LDhPJWozpu1Q",
        "outputId": "c3e6b03e-a725-42b8-8771-af5868341db1"
      },
      "execution_count": null,
      "outputs": [
        {
          "output_type": "display_data",
          "data": {
            "text/plain": [
              "<Figure size 640x480 with 1 Axes>"
            ],
            "image/png": "[encoded data removed]"
          },
          "metadata": {}
        },
        {
          "output_type": "display_data",
          "data": {
            "text/plain": [
              "<Figure size 1200x400 with 2 Axes>"
            ],
            "image/png": "[encoded data removed]"
          },
          "metadata": {}
        }
      ]
    },
    {
      "cell_type": "markdown",
      "source": [
        "# 2. Fixing imbalanced dataset"
      ],
      "metadata": {
        "id": "w7pV-zBDJYp4"
      }
    },
    {
      "cell_type": "code",
      "source": [
        "\n",
        "# !rm -rf '/content/dataset/fer2013/train/disgust/'\n",
        "# !rm -rf '/content/dataset/fer2013/test/disgust/'\n",
        "\n",
        "!ls '/content/dataset/fer2013/train/'\n",
        "!ls '/content/dataset/fer2013/test/'"
      ],
      "metadata": {
        "colab": {
          "base_uri": "https://localhost:8080/"
        },
        "id": "ql7GTyMvJcu6",
        "outputId": "ca8a0936-f220-469f-ecff-783ef16334ce"
      },
      "execution_count": null,
      "outputs": [
        {
          "output_type": "stream",
          "name": "stdout",
          "text": [
            "angry  disgust\tfear  happy  neutral  sad  surprise\n",
            "angry  disgust\tfear  happy  neutral  sad  surprise\n"
          ]
        }
      ]
    },
    {
      "cell_type": "code",
      "source": [
        "import tensorflow as tf\n",
        "from tensorflow import keras\n",
        "from tensorflow.keras.preprocessing.image import ImageDataGenerator\n",
        "import numpy as np\n",
        "from PIL import Image\n",
        "import os"
      ],
      "metadata": {
        "id": "gqfKBNgOJmd2"
      },
      "execution_count": null,
      "outputs": []
    },
    {
      "cell_type": "code",
      "source": [
        "img_gen = ImageDataGenerator(\n",
        "        rotation_range=40,\n",
        "        width_shift_range=0.2,\n",
        "        height_shift_range=0.2,\n",
        "        rescale=1./255,\n",
        "        shear_range=0.2,\n",
        "        zoom_range=0.2,\n",
        "        horizontal_flip=True,\n",
        "        fill_mode='nearest')"
      ],
      "metadata": {
        "id": "uXcU6DsaJp6P"
      },
      "execution_count": null,
      "outputs": []
    },
    {
      "cell_type": "code",
      "source": [
        "def preparing_data(path):\n",
        "    img_data = []\n",
        "    img_sze = (224, 244)\n",
        "\n",
        "    #looping over every Img resize and convert it to an array and append it to list\n",
        "    for img_name in os.listdir(path):\n",
        "        img_path = os.path.join(path, img_name)\n",
        "\n",
        "        img = Image.open(img_path).convert('RGB')\n",
        "        img = img.resize(img_sze)\n",
        "        img = np.array(img)\n",
        "\n",
        "        img_data.append(img)\n",
        "\n",
        "    return np.array(img_data)"
      ],
      "metadata": {
        "id": "H2RacehLLt95"
      },
      "execution_count": null,
      "outputs": []
    },
    {
      "cell_type": "code",
      "source": [
        "def generating_data(data, path_2_save, prefix, batch_size, batches_number):\n",
        "    \"\"\"\n",
        "    PARAMS::\n",
        "    data: a numpy array that contains all your images preprocessed\n",
        "    path_2_save: folder destination that you will save the data on\n",
        "    prefix: the prefix name of the generated files\n",
        "    batch_size: how many images to preduce in every iteration\n",
        "    batches_number: How many batches you wanna generate\n",
        "    -> no_imgs = batch_size * batches_number\n",
        "\n",
        "    RETURNS::\n",
        "    it saves the files on to the destination path\n",
        "    \"\"\"\n",
        "    count = 0\n",
        "    for batch in img_gen.flow(data, batch_size=batch_size,\n",
        "                              save_to_dir=path_2_save,\n",
        "                              save_prefix=prefix, save_format='jpeg'):\n",
        "\n",
        "        if count > batches_number:\n",
        "            break\n",
        "\n",
        "        count += 1"
      ],
      "metadata": {
        "id": "C_iPHlTYM4Nh"
      },
      "execution_count": null,
      "outputs": []
    },
    {
      "cell_type": "code",
      "source": [
        "!mkdir -p /content/dataset/generated/surprise"
      ],
      "metadata": {
        "id": "c8qw23y2pepn"
      },
      "execution_count": null,
      "outputs": []
    },
    {
      "cell_type": "code",
      "source": [
        "generated_path = '/content/dataset/generated/surprise'\n",
        "surprise_path = '/content/dataset/combined/train/surprise'\n",
        "surprise_prepared = preparing_data(path=surprise_path)\n",
        "print(surprise_prepared.shape)"
      ],
      "metadata": {
        "colab": {
          "base_uri": "https://localhost:8080/"
        },
        "id": "LsOD4r_9NHpX",
        "outputId": "bce3b8eb-26e9-4347-fde1-d15e50e496d2"
      },
      "execution_count": null,
      "outputs": [
        {
          "output_type": "stream",
          "name": "stdout",
          "text": [
            "(3344, 244, 224, 3)\n"
          ]
        }
      ]
    },
    {
      "cell_type": "code",
      "source": [
        "generating_data(surprise_prepared, generated_path, prefix='gen', batch_size=32, batches_number=80)"
      ],
      "metadata": {
        "id": "v0TzBWLHej7Y"
      },
      "execution_count": null,
      "outputs": []
    },
    {
      "cell_type": "code",
      "source": [
        "!ls /content/dataset/generated/surprise | wc -l"
      ],
      "metadata": {
        "colab": {
          "base_uri": "https://localhost:8080/"
        },
        "id": "5ZjedKQqqYfH",
        "outputId": "7646fda4-20a5-466f-b1b2-fea70fa9dbea"
      },
      "execution_count": null,
      "outputs": [
        {
          "output_type": "stream",
          "name": "stdout",
          "text": [
            "2624\n"
          ]
        }
      ]
    },
    {
      "cell_type": "code",
      "source": [
        "!mv /content/dataset/generated/surprise/* /content/dataset/combined/train/surprise/."
      ],
      "metadata": {
        "id": "6oECy5-kqckC"
      },
      "execution_count": null,
      "outputs": []
    },
    {
      "cell_type": "code",
      "source": [
        "!ls /content/dataset/combined/train/surprise/ | wc -l"
      ],
      "metadata": {
        "colab": {
          "base_uri": "https://localhost:8080/"
        },
        "id": "cTN4POUdqe0i",
        "outputId": "8e26ba7f-e4fd-49af-9317-7a226ec9a378"
      },
      "execution_count": null,
      "outputs": [
        {
          "output_type": "stream",
          "name": "stdout",
          "text": [
            "5968\n"
          ]
        }
      ]
    },
    {
      "cell_type": "code",
      "source": [
        "del surprise_prepared\n",
        "del surprise_path"
      ],
      "metadata": {
        "id": "CwnqZhsDrTGJ"
      },
      "execution_count": null,
      "outputs": []
    },
    {
      "cell_type": "code",
      "source": [
        "!rmdir /content/dataset/generated/surprise"
      ],
      "metadata": {
        "id": "TcHxdUykrtFf"
      },
      "execution_count": null,
      "outputs": []
    },
    {
      "cell_type": "code",
      "source": [
        "\n",
        "emotions_distribution"
      ],
      "metadata": {
        "colab": {
          "base_uri": "https://localhost:8080/"
        },
        "id": "FZUxW2D-rw8t",
        "outputId": "99504ccf-20b5-43ae-911a-ab72daa5a068"
      },
      "execution_count": null,
      "outputs": [
        {
          "output_type": "execute_result",
          "data": {
            "text/plain": [
              "{'angry': 4089,\n",
              " 'disgust': 561,\n",
              " 'fear': 4149,\n",
              " 'happy': 7359,\n",
              " 'neutral': 5003,\n",
              " 'sad': 4888,\n",
              " 'surprise': 3344}"
            ]
          },
          "metadata": {},
          "execution_count": 22
        }
      ]
    },
    {
      "cell_type": "code",
      "source": [
        "angry_prepared = preparing_data('/content/dataset/combined/train/angry')"
      ],
      "metadata": {
        "id": "ReIoz1EIr1RA"
      },
      "execution_count": null,
      "outputs": []
    },
    {
      "cell_type": "code",
      "source": [
        "generating_data(angry_prepared,\n",
        "                '/content/dataset/combined/train/angry',\n",
        "                prefix='gen',\n",
        "                batch_size=20,\n",
        "                batches_number=100)"
      ],
      "metadata": {
        "id": "VlMcK5iOr5i7"
      },
      "execution_count": null,
      "outputs": []
    },
    {
      "cell_type": "code",
      "source": [
        "!ls /content/dataset/combined/train/angry/ | wc -l"
      ],
      "metadata": {
        "colab": {
          "base_uri": "https://localhost:8080/"
        },
        "id": "Hk76cETQr5bJ",
        "outputId": "57c86616-3f1e-47dc-adef-d0511bf4851a"
      },
      "execution_count": null,
      "outputs": [
        {
          "output_type": "stream",
          "name": "stdout",
          "text": [
            "6129\n"
          ]
        }
      ]
    },
    {
      "cell_type": "code",
      "source": [
        "del angry_prepared"
      ],
      "metadata": {
        "id": "-sOxpTQhsgZy"
      },
      "execution_count": null,
      "outputs": []
    },
    {
      "cell_type": "code",
      "source": [
        "fear_prepared = preparing_data('/content/dataset/combined/train/fear')\n",
        "\n",
        "generating_data(fear_prepared,\n",
        "                '/content/dataset/combined/train/fear',\n",
        "                prefix='gen',\n",
        "                batch_size=20,\n",
        "                batches_number=40)"
      ],
      "metadata": {
        "id": "lHDv4rPKsi2j"
      },
      "execution_count": null,
      "outputs": []
    },
    {
      "cell_type": "code",
      "source": [
        "!ls /content/dataset/combined/train/fear | wc -l"
      ],
      "metadata": {
        "id": "9BoJAcJ-sspe",
        "colab": {
          "base_uri": "https://localhost:8080/"
        },
        "outputId": "7e24a4ee-579a-454b-ae53-a477ba9b2acb"
      },
      "execution_count": null,
      "outputs": [
        {
          "output_type": "stream",
          "name": "stdout",
          "text": [
            "4989\n"
          ]
        }
      ]
    },
    {
      "cell_type": "code",
      "source": [
        "del fear_prepared"
      ],
      "metadata": {
        "id": "yOtMg_YZsvDY"
      },
      "execution_count": null,
      "outputs": []
    },
    {
      "cell_type": "code",
      "source": [
        "sad_prepared = preparing_data('/content/dataset/combined/train/sad')\n",
        "\n",
        "generating_data(sad_prepared,\n",
        "                '/content/dataset/combined/train/sad',\n",
        "                prefix='gen',\n",
        "                batch_size=5,\n",
        "                batches_number=5)\n",
        "!ls /content/dataset/combined/train/sad/ | wc -l"
      ],
      "metadata": {
        "id": "ssxE5HSmsyX5",
        "colab": {
          "base_uri": "https://localhost:8080/"
        },
        "outputId": "88fd9a60-c711-40ee-bd96-d9eb9ee40f40"
      },
      "execution_count": null,
      "outputs": [
        {
          "output_type": "stream",
          "name": "stdout",
          "text": [
            "4923\n"
          ]
        }
      ]
    },
    {
      "cell_type": "code",
      "source": [
        "del sad_prepared"
      ],
      "metadata": {
        "id": "NtXH7QxatB3x"
      },
      "execution_count": null,
      "outputs": []
    },
    {
      "cell_type": "code",
      "source": [
        "neutral_prepared = preparing_data('/content/dataset/combined/train/neutral')\n",
        "\n",
        "generating_data(neutral_prepared,\n",
        "                '/content/dataset/combined/train/neutral',\n",
        "                prefix='gen',\n",
        "                batch_size=10,\n",
        "                batches_number=100)\n",
        "!ls /content/dataset/combined/train/neutral | wc -l"
      ],
      "metadata": {
        "id": "ywhlNbBhtFuS"
      },
      "execution_count": null,
      "outputs": []
    },
    {
      "cell_type": "code",
      "source": [
        "disgust_prepared = preparing_data('/content/dataset/combined/train/disgust')\n",
        "\n",
        "generating_data(disgust_prepared,\n",
        "                '/content/dataset/combined/train/disgust',\n",
        "                prefix='gen',\n",
        "                batch_size=5,\n",
        "                batches_number=10)\n",
        "!ls /content/dataset/combined/train/disgust | wc -l"
      ],
      "metadata": {
        "id": "6X23ZD5LHXGq",
        "colab": {
          "base_uri": "https://localhost:8080/"
        },
        "outputId": "76642e15-009e-47aa-db95-0ff68fa4825e"
      },
      "execution_count": null,
      "outputs": [
        {
          "output_type": "stream",
          "name": "stdout",
          "text": [
            "4666\n"
          ]
        }
      ]
    },
    {
      "cell_type": "code",
      "source": [
        "del disgust_prepared"
      ],
      "metadata": {
        "id": "DVtKp8KF68in"
      },
      "execution_count": null,
      "outputs": []
    },
    {
      "cell_type": "code",
      "source": [
        "data_path = '/content/dataset/combined/train'\n",
        "emo_dist = {}\n",
        "\n",
        "for dir in os.listdir(data_path):\n",
        "  imgs_count = len(os.listdir(os.path.join(data_path, dir)))\n",
        "  emo_dist[dir] = imgs_count\n",
        "\n",
        "  print(f\"numer of imgs in the {dir} category is {imgs_count}\")"
      ],
      "metadata": {
        "id": "JFcxf2k7tJDE",
        "colab": {
          "base_uri": "https://localhost:8080/"
        },
        "outputId": "d029a99a-289b-403b-b2c1-7b3455c85d9c"
      },
      "execution_count": null,
      "outputs": [
        {
          "output_type": "stream",
          "name": "stdout",
          "text": [
            "numer of imgs in the disgust category is 4666\n",
            "numer of imgs in the angry category is 6129\n",
            "numer of imgs in the fear category is 4989\n",
            "numer of imgs in the neutral category is 5003\n",
            "numer of imgs in the happy category is 7359\n",
            "numer of imgs in the sad category is 4923\n",
            "numer of imgs in the surprise category is 5968\n"
          ]
        }
      ]
    },
    {
      "cell_type": "code",
      "source": [
        "emo_dist"
      ],
      "metadata": {
        "id": "MYKLkevttQSA",
        "colab": {
          "base_uri": "https://localhost:8080/"
        },
        "outputId": "8f0781d8-af5f-4a09-c72e-b8486fc4c52b"
      },
      "execution_count": null,
      "outputs": [
        {
          "output_type": "execute_result",
          "data": {
            "text/plain": [
              "{'disgust': 4666,\n",
              " 'angry': 6129,\n",
              " 'fear': 4989,\n",
              " 'neutral': 5003,\n",
              " 'happy': 7359,\n",
              " 'sad': 4923,\n",
              " 'surprise': 5968}"
            ]
          },
          "metadata": {},
          "execution_count": 58
        }
      ]
    },
    {
      "cell_type": "code",
      "source": [
        "plt.pie(list(emo_dist.values()),\n",
        "        labels = list(emo_dist.keys()),\n",
        "        autopct = '%1.1f%%')\n",
        "plt.show()"
      ],
      "metadata": {
        "id": "xEA3EymNtS0A",
        "colab": {
          "base_uri": "https://localhost:8080/",
          "height": 406
        },
        "outputId": "c0eebde9-cd9b-460d-c251-0b53ca96be33"
      },
      "execution_count": null,
      "outputs": [
        {
          "output_type": "display_data",
          "data": {
            "text/plain": [
              "<Figure size 640x480 with 1 Axes>"
            ],
            "image/png": "[encoded data removed]"
          },
          "metadata": {}
        }
      ]
    },
    {
      "cell_type": "code",
      "source": [
        "zf = zipfile.ZipFile(\"combined_balanced_dataset.zip\", \"w\")\n",
        "for dirname, subdirs, files in os.walk('/content/dataset/combined'):\n",
        "    zf.write(dirname)\n",
        "    for filename in files:\n",
        "        zf.write(os.path.join(dirname, filename))\n",
        "zf.close()"
      ],
      "metadata": {
        "id": "FDzF_I5utau8"
      },
      "execution_count": null,
      "outputs": []
    },
    {
      "cell_type": "code",
      "source": [
        "!cp /content/combined_balanced_dataset.zip /content/drive/MyDrive/data"
      ],
      "metadata": {
        "id": "vhRhjscKtdsN"
      },
      "execution_count": null,
      "outputs": []
    },
    {
      "cell_type": "code",
      "source": [],
      "metadata": {
        "id": "QDD-n-RrnDOO"
      },
      "execution_count": null,
      "outputs": []
    },
    {
      "cell_type": "code",
      "source": [
        "import nltk\n",
        "nltk.download('wordnet')\n"
      ],
      "metadata": {
        "colab": {
          "base_uri": "https://localhost:8080/"
        },
        "id": "WolCBY5Dmt0k",
        "outputId": "24992db4-98e5-47bb-c3a4-3fa050abbc51"
      },
      "execution_count": null,
      "outputs": [
        {
          "output_type": "stream",
          "name": "stderr",
          "text": [
            "[nltk_data] Downloading package wordnet to /root/nltk_data...\n"
          ]
        },
        {
          "output_type": "execute_result",
          "data": {
            "text/plain": [
              "True"
            ]
          },
          "metadata": {},
          "execution_count": 17
        }
      ]
    },
    {
      "cell_type": "code",
      "source": [
        "nltk.download('wordnet')"
      ],
      "metadata": {
        "id": "czYfryRvnFfg"
      },
      "execution_count": null,
      "outputs": []
    },
    {
      "cell_type": "code",
      "source": [
        "from nltk.corpus import wordnet\n",
        "\n",
        "def antonyms_for(word):\n",
        "    antonyms = set()\n",
        "    for ss in wordnet.synsets(word):\n",
        "        for lemma in ss.lemmas():\n",
        "            any_pos_antonyms = [antonym.name() for antonym in lemma.antonyms()]\n",
        "            antonyms.update(any_pos_antonyms)\n",
        "    return antonyms\n",
        "\n",
        "print(antonyms_for(\"good\"))\n"
      ],
      "metadata": {
        "colab": {
          "base_uri": "https://localhost:8080/"
        },
        "outputId": "7b5183ce-c622-494b-a63c-0e121b0bc163",
        "id": "F8pnFlEPnFuw"
      },
      "execution_count": null,
      "outputs": [
        {
          "output_type": "stream",
          "name": "stdout",
          "text": [
            "{'evilness', 'evil', 'bad', 'badness', 'ill'}\n"
          ]
        }
      ]
    }
  ]
}